{
 "cells": [
  {
   "cell_type": "markdown",
   "id": "d60a615f-3ff3-4a08-b27a-a35b1944a845",
   "metadata": {},
   "source": [
    "My Jupyter Notebook on IBM Watson Studio"
   ]
  },
  {
   "cell_type": "markdown",
   "id": "9fd13a4b-0cfe-4857-a46d-36dd928beda6",
   "metadata": {},
   "source": [
    "𝐇𝐚𝐫𝐢 𝐏𝐫𝐚𝐬𝐚𝐭𝐡 𝐌\n",
    "Aerospace engineer"
   ]
  },
  {
   "cell_type": "markdown",
   "id": "9ece11cd-ca80-4123-9ccc-84ba0892b407",
   "metadata": {},
   "source": [
    "𝘐 𝘢𝘮 𝘪𝘯𝘵𝘦𝘳𝘦𝘴𝘵𝘦𝘥 𝘪𝘯 𝘥𝘢𝘵𝘢 𝘴𝘤𝘪𝘦𝘯𝘤𝘦 𝘣𝘦𝘤𝘢𝘶𝘴𝘦 𝘐 𝘭𝘰𝘷𝘦 𝘤𝘰𝘥𝘪𝘯𝘨 𝘢𝘯𝘥 𝘷𝘪𝘴𝘶𝘢𝘭𝘪𝘻𝘢𝘵𝘪𝘰𝘯 𝘴𝘵𝘶𝘧𝘧𝘴.\n",
    "𝘐'𝘥 𝘭𝘰𝘷𝘦 𝘵𝘰 𝘮𝘢𝘬𝘦 𝘮𝘺 𝘤𝘢𝘳𝘦𝘦𝘳 𝘢𝘴 𝘢 𝘥𝘢𝘵𝘢 𝘴𝘤𝘪𝘦𝘯𝘵𝘪𝘴𝘵 𝘱𝘳𝘰𝘧𝘦𝘴𝘴𝘪𝘰𝘯𝘢𝘭."
   ]
  },
  {
   "cell_type": "markdown",
   "id": "68db26a1-5c58-4d1a-a226-ebda6366501c",
   "metadata": {},
   "source": [
    "This code will add two numbers and print the results"
   ]
  },
  {
   "cell_type": "code",
   "execution_count": null,
   "id": "9a0ac0bc-bc92-4fc6-a7b9-af7ef0532c7d",
   "metadata": {},
   "outputs": [],
   "source": [
    "print(\"2+2\")"
   ]
  },
  {
   "cell_type": "markdown",
   "id": "fe70cfba-d419-4162-aaed-828efb79455f",
   "metadata": {},
   "source": [
    "<a href = \"https://www.google.com\"> Hyperlink for google</a>\n",
    "\n",
    "creating tables\n",
    "|header|header|\n",
    "|------|------|\n",
    "|cell  |cell  |\n",
    "\n",
    "\n",
    "numbered list\n",
    "1. a\n",
    "2. b\n",
    "3. c\n",
    "\n"
   ]
  },
  {
   "cell_type": "code",
   "execution_count": null,
   "id": "004a3cd1-fc61-48fc-bbe4-0367b10fd924",
   "metadata": {},
   "outputs": [],
   "source": []
  }
 ],
 "metadata": {
  "kernelspec": {
   "display_name": "Python",
   "language": "python",
   "name": "conda-env-python-py"
  },
  "language_info": {
   "codemirror_mode": {
    "name": "ipython",
    "version": 3
   },
   "file_extension": ".py",
   "mimetype": "text/x-python",
   "name": "python",
   "nbconvert_exporter": "python",
   "pygments_lexer": "ipython3",
   "version": "3.7.12"
  }
 },
 "nbformat": 4,
 "nbformat_minor": 5
}
